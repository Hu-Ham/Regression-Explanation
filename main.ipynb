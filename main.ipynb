{
 "cells": [
  {
   "cell_type": "code",
   "execution_count": null,
   "metadata": {},
   "outputs": [],
   "source": [
    "import csv\n",
    "import pandas as pd\n",
    "import numpy as np\n",
    "import matplotlib.pyplot as plt\n",
    "\n",
    "#Imports the csv file and assigns it to the Dataframe \"df\"\n",
    "df = pd.read_csv(\"PHD.csv\")\n"
   ]
  },
  {
   "cell_type": "code",
   "execution_count": null,
   "metadata": {},
   "outputs": [],
   "source": [
    "#The code here was adapted from the following source:\n",
    "#https://www.kite.com/python/answers/how-to-plot-a-line-of-best-fit-in-python\n",
    "#Here we create a least squares polynomial fit over the data, using the parameters of temperature and height.\n",
    "#The variable m is the slope of the line of best fit, and the variable b is the line's y-intercept.\n",
    "m, b = np.polyfit(df['temp'],df['height'],1)\n",
    "#Here, we plot a scatter graph without the line for demonstrative purposes:\n",
    "plt.plot(df['temp'],df['height'], 'bo')\n",
    "plt.legend()"
   ]
  },
  {
   "cell_type": "code",
   "execution_count": null,
   "metadata": {},
   "outputs": [],
   "source": [
    "#Next, we run the same code, now plotting the line of best fit.\n",
    "m, b = np.polyfit(df['temp'],df['height'],1)\n",
    "plt.plot(df['temp'],df['height'], 'bo')\n",
    "plt.plot(df['temp'], m*df['temp'] + b, color='Red')\n",
    "#Now we want to find the R^2 value of this line of (putative) best fit. \n",
    "#This code was adapted from the following source:\n",
    "#https://www.askpython.com/python/coefficient-of-determination\n",
    "#The precise mathematics are written out on the web page.\n",
    "#Here we are doing it through numpy's statistical \"correlation matrix\" method, which in this case\n",
    "#can be used in order to find the R value, the coefficient of correlation between the line of best fit\n",
    "#and all y-values of the points on the graph given a certain index.\n",
    "correlationMatrix = np.corrcoef(df['height'], m*df['temp'] + b)\n",
    "corr = correlationMatrix[0,1]\n",
    "#Now that the R value is found, to find the R-squared value, we must square it. \n",
    "R_sq = corr**2\n",
    "#Output results:\n",
    "print(\"The R-squared value for the correlation of the height and the temperature is:\", R_sq)"
   ]
  },
  {
   "cell_type": "code",
   "execution_count": null,
   "metadata": {},
   "outputs": [],
   "source": [
    "#Now we do the same for the volume of rain, instead of temperature\n",
    "m, b = np.polyfit(df['rain'],df['height'],1)\n",
    "plt.plot(df['rain'],df['height'], 'bo')\n",
    "plt.plot(df['rain'], m*df['rain'] + b, color='Red')\n",
    "#We find the R^2 value of this line of (putative) best fit, beginning with the R-value\n",
    "correlationMatrix = np.corrcoef(df['height'], m*df['rain'] + b)\n",
    "corr = correlationMatrix[0,1]\n",
    "#Now that the R value is found, to find the R-squared value, we must square it. \n",
    "R_sq = corr**2\n",
    "#Output results:\n",
    "print(\"The R-squared value for the correlation of the height and the volume of rain is:\", R_sq)"
   ]
  },
  {
   "cell_type": "code",
   "execution_count": null,
   "metadata": {},
   "outputs": [],
   "source": [
    "#Now we do the same using the altitude of the plants, instead of the volume of rain\n",
    "m, b = np.polyfit(df['alt'],df['height'],1)\n",
    "plt.plot(df['alt'],df['height'], 'bo')\n",
    "plt.plot(df['alt'], m*df['alt'] + b, color='Red')\n",
    "#We find the R^2 value of this line of (putative) best fit, beginning with the R-value\n",
    "correlationMatrix = np.corrcoef(df['height'], m*df['alt'] + b)\n",
    "corr = correlationMatrix[0,1]\n",
    "#Now that the R value is found, to find the R-squared value, we must square it. \n",
    "R_sq = corr**2\n",
    "#Output results:\n",
    "print(\"The R-squared value for the correlation of the plant's height and its altitude is:\", R_sq)"
   ]
  },
  {
   "cell_type": "code",
   "execution_count": null,
   "metadata": {},
   "outputs": [],
   "source": [
    "#Finally, we will calculate the line of best fit and R^2 value correlating the plants' site numbers\n",
    "#and the plants' heights.\n",
    "m, b = np.polyfit(df['site'],df['height'],1)\n",
    "plt.plot(df['site'],df['height'], 'bo')\n",
    "plt.plot(df['site'], m*df['site'] + b, color='Red')\n",
    "#We find the R^2 value of this line of (putative) best fit, beginning with the R-value\n",
    "correlationMatrix = np.corrcoef(df['height'], m*df['site'] + b)\n",
    "corr = correlationMatrix[0,1]\n",
    "#Now that the R value is found, to find the R-squared value, we must square it. \n",
    "R_sq = corr**2\n",
    "#Output results:\n",
    "print(\"The R-squared value for the correlation of the plant's height and its site number is:\", R_sq)"
   ]
  },
  {
   "cell_type": "code",
   "execution_count": null,
   "metadata": {},
   "outputs": [],
   "source": []
  }
 ],
 "metadata": {
  "interpreter": {
   "hash": "dba8635c80508dd3ebb13cb7bb27de5ff81aa260ffa220a717aea7d0a1104138"
  },
  "kernelspec": {
   "display_name": "Python 3.8.5 64-bit ('base': conda)",
   "language": "python",
   "name": "python3"
  },
  "language_info": {
   "codemirror_mode": {
    "name": "ipython",
    "version": 3
   },
   "file_extension": ".py",
   "mimetype": "text/x-python",
   "name": "python",
   "nbconvert_exporter": "python",
   "pygments_lexer": "ipython3",
   "version": "3.8.5"
  }
 },
 "nbformat": 4,
 "nbformat_minor": 4
}
